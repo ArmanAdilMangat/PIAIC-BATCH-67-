{
  "nbformat": 4,
  "nbformat_minor": 0,
  "metadata": {
    "colab": {
      "provenance": [],
      "authorship_tag": "ABX9TyOCFfNI4TLg/4A/sCc0N2jF",
      "include_colab_link": true
    },
    "kernelspec": {
      "name": "python3",
      "display_name": "Python 3"
    },
    "language_info": {
      "name": "python"
    }
  },
  "cells": [
    {
      "cell_type": "markdown",
      "metadata": {
        "id": "view-in-github",
        "colab_type": "text"
      },
      "source": [
        "<a href=\"https://colab.research.google.com/github/ArmanAdilMangat/PIAIC-BATCH-67-/blob/main/PIAIC_BATCH--67_Assignment_2.ipynb\" target=\"_parent\"><img src=\"https://colab.research.google.com/assets/colab-badge.svg\" alt=\"Open In Colab\"/></a>"
      ]
    },
    {
      "cell_type": "markdown",
      "source": [
        "# Name:**Arman Adil Mangat**\n",
        "**PIAIC_ID:** 253214\n",
        "# ***BATCH 67***"
      ],
      "metadata": {
        "id": "Rp2spd83Roeb"
      }
    },
    {
      "cell_type": "markdown",
      "source": [
        "#TASK 1\n",
        "# Print a Message"
      ],
      "metadata": {
        "id": "OUrbSploCdo8"
      }
    },
    {
      "cell_type": "code",
      "execution_count": 1,
      "metadata": {
        "colab": {
          "base_uri": "https://localhost:8080/"
        },
        "id": "WLYJCOfnByxu",
        "outputId": "8bc7e755-8b63-4a8d-d823-be811dbeda8e"
      },
      "outputs": [
        {
          "output_type": "stream",
          "name": "stdout",
          "text": [
            "Hello, everyone! I am learning python\n"
          ]
        }
      ],
      "source": [
        "print(\"Hello, everyone! I am learning python\")"
      ]
    },
    {
      "cell_type": "markdown",
      "source": [
        "# Task 2\n",
        "Declearing Variables"
      ],
      "metadata": {
        "id": "g3iefYxHJdO_"
      }
    },
    {
      "cell_type": "code",
      "source": [
        "# String\n",
        "Name=\"Arman_Adil_Mangat\"\n",
        "# Integer\n",
        "Age=23\n",
        "Favorite_Animal= \"Eagle\"\n",
        "print(f\"Name:{Name}\")\n",
        "print(f\"Age:{Age}\")\n",
        "print(f\"Favorite_Animal:{Favorite_Animal}\")\n"
      ],
      "metadata": {
        "colab": {
          "base_uri": "https://localhost:8080/"
        },
        "id": "Pxv_08afJj2X",
        "outputId": "754c0d90-a6cc-4932-e89e-c187bef4f604"
      },
      "execution_count": 6,
      "outputs": [
        {
          "output_type": "stream",
          "name": "stdout",
          "text": [
            "Name:Arman_Adil_Mangat\n",
            "Age:23\n",
            "Favorite_Animal:Eagle\n"
          ]
        }
      ]
    },
    {
      "cell_type": "markdown",
      "source": [
        "# Task 3\n",
        "Combining Variable in  a Message"
      ],
      "metadata": {
        "id": "_9OI7v4ALaEx"
      }
    },
    {
      "cell_type": "code",
      "source": [
        "# Calling variable in Print statement , which i used in above tasks\n",
        "print(f\"My name is {Name},I am {Age} Years old and I like {Favorite_Animal}!\")"
      ],
      "metadata": {
        "colab": {
          "base_uri": "https://localhost:8080/"
        },
        "id": "FOtDe7iGLlGZ",
        "outputId": "6edae2fd-a73b-4a38-d7cb-5217217d1930"
      },
      "execution_count": 10,
      "outputs": [
        {
          "output_type": "stream",
          "name": "stdout",
          "text": [
            "My name is Arman_Adil_Mangat,I am 23 Years old and I like Eagle!\n"
          ]
        }
      ]
    },
    {
      "cell_type": "markdown",
      "source": [
        "#Task 4\n",
        "Different Data Types"
      ],
      "metadata": {
        "id": "cJadFTX1C541"
      }
    },
    {
      "cell_type": "code",
      "source": [
        "# String\n",
        "Favorite_Movie=\"Bathman Arkum Night\"\n",
        "# Integer:\n",
        "Year=2025\n",
        "#Float:\n",
        "Price_of_Headphone=155.5\n",
        "#Printing Variables\n",
        "print(f\"Favorite_Movie:{Favorite_Movie}\")\n",
        "print(f\"Price_of_Headphone:{Price_of_Headphone}\")\n",
        "print(f\"Year:{Year}\")"
      ],
      "metadata": {
        "colab": {
          "base_uri": "https://localhost:8080/"
        },
        "id": "F6DXIDkqC4nM",
        "outputId": "230b2bdf-c2da-479d-b489-fdf62eec41d6"
      },
      "execution_count": 5,
      "outputs": [
        {
          "output_type": "stream",
          "name": "stdout",
          "text": [
            "Favorite_Movie:Bathman Arkum Night\n",
            "Price_of_Headphone:155.5\n",
            "Year:2025\n"
          ]
        }
      ]
    },
    {
      "cell_type": "markdown",
      "source": [
        "# Task 5\n",
        "Your Favrite Hobbies:"
      ],
      "metadata": {
        "id": "gEZd7j2uNa1f"
      }
    },
    {
      "cell_type": "code",
      "source": [
        "# I have my hobbies , Changing By time to  time\n",
        "Hobby=(\"Watching Documentories, Sometime Gaming As well , Working on co-curiculliom activities etc\")\n",
        "print(Hobby)"
      ],
      "metadata": {
        "colab": {
          "base_uri": "https://localhost:8080/"
        },
        "id": "NwiNHph2NlRH",
        "outputId": "ab75b260-a834-4c86-eacc-e2bad324dfd8"
      },
      "execution_count": 12,
      "outputs": [
        {
          "output_type": "stream",
          "name": "stdout",
          "text": [
            "Watching Documentories, Sometime Gaming As well , Working on co-curiculliom activities etc\n"
          ]
        }
      ]
    },
    {
      "cell_type": "markdown",
      "source": [
        "#**Challege**"
      ],
      "metadata": {
        "id": "fI6VTRpvPKCX"
      }
    },
    {
      "cell_type": "markdown",
      "source": [
        "Create two variables, a and b, and assign them any numbers you like.\n",
        "Create a third variable, c, and assign it the value of a + b (no operators, just assignment).\n",
        "Print all three variables."
      ],
      "metadata": {
        "id": "hXr5FBckPVd_"
      }
    },
    {
      "cell_type": "code",
      "source": [
        "x= 15\n",
        "y= 18\n",
        "xy= x+y\n",
        "print(xy)"
      ],
      "metadata": {
        "colab": {
          "base_uri": "https://localhost:8080/"
        },
        "id": "P3PsF2egRab5",
        "outputId": "f0ffef6e-a6dd-47f9-b3e5-2f1a3300a6a3"
      },
      "execution_count": 22,
      "outputs": [
        {
          "output_type": "stream",
          "name": "stdout",
          "text": [
            "33\n"
          ]
        }
      ]
    }
  ]
}