{
  "nbformat": 4,
  "nbformat_minor": 0,
  "metadata": {
    "colab": {
      "provenance": [],
      "authorship_tag": "ABX9TyO1Ri6TaRq/b2DfR+/0uwUM",
      "include_colab_link": true
    },
    "kernelspec": {
      "name": "python3",
      "display_name": "Python 3"
    },
    "language_info": {
      "name": "python"
    }
  },
  "cells": [
    {
      "cell_type": "markdown",
      "metadata": {
        "id": "view-in-github",
        "colab_type": "text"
      },
      "source": [
        "<a href=\"https://colab.research.google.com/github/ArmanAdilMangat/PIAIC-BATCH-67-/blob/main/PIAIC_67_Assignment_1.ipynb\" target=\"_parent\"><img src=\"https://colab.research.google.com/assets/colab-badge.svg\" alt=\"Open In Colab\"/></a>"
      ]
    },
    {
      "cell_type": "code",
      "execution_count": null,
      "metadata": {
        "id": "NWIGD--HiJlM"
      },
      "outputs": [],
      "source": [
        "# Arman Adil Mangat\n",
        "#PIAIC ID : PIAIC 253214"
      ]
    },
    {
      "cell_type": "code",
      "source": [
        "# Basic Print Statements:\n",
        "#Name:\n",
        "print(\"My name is Arman Adil Mangat\")\n",
        "#Father Name:\n",
        "print(\"My Father name is Altaf Hussian Mangat\")\n",
        "# Current Status:\n",
        "print(\"Student\")\n",
        "#Feild of Study\n",
        "print(\"Bs Artificial Intelligence From UMT and Many More so on \")\n",
        "#Age:\n",
        "print(\"23\")\n",
        "#City\n",
        "print(\"Currently Living in Lahore but belong to anther city Hafizabad\")"
      ],
      "metadata": {
        "colab": {
          "base_uri": "https://localhost:8080/"
        },
        "id": "0azkykNxihds",
        "outputId": "78d8f5f3-d16e-498d-9ba3-ae01e87af95b"
      },
      "execution_count": 1,
      "outputs": [
        {
          "output_type": "stream",
          "name": "stdout",
          "text": [
            "My name is Arman Adil Mangat\n",
            "My Father name is Altaf Hussian Mangat\n",
            "Student\n",
            "Bs Artificial Intelligence From UMT and Many More so on \n",
            "23\n",
            " Currently Living in Lahore but belong to anther city Hafizabad\n"
          ]
        }
      ]
    }
  ]
}